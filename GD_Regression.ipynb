{
 "cells": [
  {
   "cell_type": "markdown",
   "metadata": {},
   "source": [
    "# Problem Set 4, due March 16 at 11:59pm\n",
    "\n",
    "### Before You Start\n",
    "\n",
    "This is a fun but challenging problem set. It will test your python skills, as well as your understanding of the material in class and in the readings. Start early and debug often! Some notes:\n",
    "\n",
    "* Part 1 is meant to be easy, so get through it quickly.\n",
    "* Part 2 (especially 2.1) will be difficult, but it is the lynchpin of this problem set to make sure to do it well and understand what you've done. If you find your gradient descent algorithm is taking more than a few minutes to complete, debug more, compare notes with others, and go to the TA sessions (especially the sections on vectorized computation and computational efficiency).\n",
    "* Depending on how well you've done 2.1, parts 2.3 and 4.3 will be relatively painless or incredibly painful. \n",
    "* Part 4 (especially 4.3) will be computationally intensive. Don't leave this until the last minute, otherwise your code might be running when the deadline arrives.\n",
    "* Do the extra credit problems last."
   ]
  },
  {
   "cell_type": "markdown",
   "metadata": {},
   "source": [
    "---\n",
    "\n",
    "## Introduction to the assignment\n",
    "\n",
    "As with the last assignment, you will be using the [Boston Housing Prices Data Set](https://archive.ics.uci.edu/ml/machine-learning-databases/housing/housing.names)."
   ]
  },
  {
   "cell_type": "code",
   "execution_count": 1,
   "metadata": {},
   "outputs": [],
   "source": [
    "import IPython\n",
    "import numpy as np\n",
    "import scipy as sp\n",
    "import pandas as pd\n",
    "import matplotlib\n",
    "import sklearn\n",
    "\n",
    "%matplotlib inline  \n",
    "import matplotlib.pyplot as plt  \n",
    "import statsmodels.api as sm\n",
    "from sklearn.linear_model import LinearRegression\n",
    "from sklearn.metrics import mean_squared_error\n",
    "import statsmodels.formula.api as smf\n"
   ]
  },
  {
   "cell_type": "code",
   "execution_count": 2,
   "metadata": {},
   "outputs": [],
   "source": [
    "# Load you data the Boston Housing data into a dataframe\n",
    "# MEDV.txt containt the median house values and data.txt the other 13 features\n",
    "# in order [\"CRIM\", \"ZN\", \"INDUS\", \"CHAS\", \"NOX\",\"RM\",\"AGE\",\"DIS\",\"RAD\",\"TAX\",\"PTRATIO\",\"B\",\"LSTAT\"]\n",
    "# Your code here\n",
    "\n",
    "from sklearn.datasets import load_boston\n",
    "\n",
    "bdata = load_boston()\n",
    "boston = pd.DataFrame(bdata.data)\n",
    "boston.columns = bdata.feature_names[:]\n",
    "boston['MEDV'] = bdata.target"
   ]
  },
  {
   "cell_type": "markdown",
   "metadata": {},
   "source": [
    "---\n",
    "\n",
    "## Part 1: Getting oriented\n",
    "\n",
    "\n",
    "### 1.1 Use existing libraries\n",
    "\n",
    "Soon, you will write your own gradient descent algorithm, which you will then use to minimize the squared error cost function.  First, however, let's use the canned versions that come with Python, to make sure we understand what we're aiming to achieve.\n",
    "\n",
    "Using the same Boston housing prices dataset, use the [Linear Regression class](http://scikit-learn.org/stable/modules/generated/sklearn.linear_model.LinearRegression.html) from sklearn or the [OLS class](http://wiki.scipy.org/Cookbook/OLS) from SciPy to explore the relationship between  median housing price and number of rooms per house. Do this by first (a) regressing the housing price on the number of rooms per house, and then (b) regressing the housing price on the number of rooms per house and the (number of rooms per house) squared.  Interpret your results."
   ]
  },
  {
   "cell_type": "code",
   "execution_count": 3,
   "metadata": {},
   "outputs": [
    {
     "name": "stdout",
     "output_type": "stream",
     "text": [
      "a) Intercept is [-34.67062078] and Slope is [[9.10210898]] \n",
      "b) Intercept is [66.05884748] and Slopes are [[-22.64326237   2.47012384]]\n"
     ]
    }
   ],
   "source": [
    "# Your code here\n",
    "\n",
    "# Y: median housing price, X_RM: number of rooms per house\n",
    "X_RM = np.array(boston['RM']).reshape(-1,1) # number of rooms per house\n",
    "Y = np.array(boston['MEDV']).reshape(-1,1)  # median housing price\n",
    "\n",
    "# a) Regressing the housing price on the number of rooms per house -- use sklearn.linear_models \n",
    "reg = LinearRegression().fit(X_RM, Y)\n",
    "print(\"a) Intercept is {} and Slope is {} \".format(reg.intercept_, reg.coef_))\n",
    "\n",
    "# b) Regressing the housing price on the number of rooms per house and the (number of rooms per house) squared\n",
    "X_RM2 = np.square(X_RM)\n",
    "X_regress = np.column_stack((X_RM, X_RM2))\n",
    "reg2 = LinearRegression().fit(X_regress, Y)\n",
    "print(\"b) Intercept is {} and Slopes are {}\".format(reg2.intercept_, reg2.coef_))\n",
    "\n",
    "# For interpretation of the results: \n",
    "#print('The minimum average number of rooms per house: {}'.format(min(boston['RM'])))"
   ]
  },
  {
   "cell_type": "markdown",
   "metadata": {},
   "source": [
    "*Enter your observations here*\n",
    "\n",
    "<font color='blue'>*a) The results show that the average housing price increases by \\\\$9.102 $\\cdot$ 1000 = \\\\$9,102 as the number of rooms in the house increases by 1. Also, the average price of a house with 5 rooms can be calculated as \\\\$(-34.67062078 + 5 $\\cdot$ 9.10210898) $\\cdot$ 1000 = \\\\$10,839.92412.* \n",
    "<br/><br/> \n",
    "*b) Now, we have a quadratic term, and so the effect of a one-unit change in the (number of rooms per house) is not constant, specifically the net change in the average housing price by a one-unit increase in the (number of rooms per house) is equal to \\\\$(-22.64326237  + 2.47012384 $\\cdot$ (2 $\\cdot$ (number of rooms per house) + 1)) $\\cdot$ 1000. For instance, the average change in the housing prices when the number of rooms in the house increases from 4 to 5 can be calculated as: \\\\$(-22.64326237 $\\cdot$ (5-4) + 2.47012384 $\\cdot$ (25-16)) $\\cdot$ 1000 = \\\\$-412.14781, so we observe a decrease in the average housing price. On the other hand, the average change in the housing prices when the number of rooms in the house increases from 5 to 6 can be calculated as: \\\\$(-22.64326237 $\\cdot$ (6-5) + 2.47012384 $\\cdot$ (36-25)) $\\cdot$ 1000 = \\\\$4,528.09987, so this time we observe an increase in the average housing price. Hence, we see that the quadratic effect of the term (number of rooms per house) results in increases in the average housing prices at an increasing rate as the number of rooms increases.*\n",
    "</font> "
   ]
  },
  {
   "cell_type": "markdown",
   "metadata": {},
   "source": [
    "### 1.2 Training and testing\n",
    "\n",
    "Chances are, for the above problem you used all of your data to fit the regression line. In some circumstances this is a reasonable thing to do, but often this will result in overfitting. Let's redo the above results the ML way, using careful cross-validation.  Since you are now experts in cross-validation, and have written your own cross-validation algorithm from scratch, you can now take a shortcut and use the libraries that others have built for you.\n",
    "\n",
    "Using the [cross-validation functions](http://scikit-learn.org/stable/modules/cross_validation.html) from scikit-learn, use 25-fold cross-validation to fit regression (a) above, i.e. the linear fit of housing price on number of rooms per house. Each fold of cross-validation will give you one slope coefficient and one intercept coefficient.  Plot the distribution of the 25 slope coefficients using a histogram, then draw a vertical line at the value of the slope coefficient that you estimated in 1.1 using the full dataset.  What do you notice?"
   ]
  },
  {
   "cell_type": "code",
   "execution_count": 4,
   "metadata": {},
   "outputs": [
    {
     "data": {
      "image/png": "[encoded data removed]",
      "text/plain": [
       "<Figure size 432x288 with 1 Axes>"
      ]
     },
     "metadata": {
      "needs_background": "light"
     },
     "output_type": "display_data"
    }
   ],
   "source": [
    "from sklearn.model_selection import KFold\n",
    "\n",
    "# your code here\n",
    "\n",
    "kf = KFold(n_splits=25)\n",
    "slopes = []\n",
    "for train_idx, test_idx in kf.split(X_RM):\n",
    "    train_x = X_RM[train_idx]\n",
    "    train_y = Y[train_idx]\n",
    "    test_x = X_RM[test_idx]\n",
    "    test_y = Y[test_idx]\n",
    "    clf = LinearRegression().fit(train_x, train_y)\n",
    "    slopes.append(clf.coef_)\n",
    "\n",
    "slopes = np.asarray(slopes).flatten()\n",
    "plt.hist(slopes, bins = 10, facecolor='g', edgecolor='white', alpha = 0.7)\n",
    "plt.axis([8.25,10,0,12])\n",
    "plt.xlabel(\"Slope coefficients\")\n",
    "plt.ylabel(\"Number of coefficients\")\n",
    "plt.title(\"Histogram: Slope coefficients from linear regression\")\n",
    "plt.axvline(reg.coef_, linewidth = 2, color = 'black', linestyle=\"dashed\")\n",
    "plt.show()"
   ]
  },
  {
   "cell_type": "markdown",
   "metadata": {},
   "source": [
    "*Enter your observations here*\n",
    "\n",
    "<font color='blue'>*From the histogram, we see that the most commonly observed values for the slope coefficient from the cross-validation are around the range [9.1, 9,2]. The slope coefficient that is estimated in part 1.1 is equal to 9.10210898, so that it also belongs to this range. This implies a positive insight about the accuracy of the estimation performed by LinearRegression().*\n",
    "</font> "
   ]
  },
  {
   "cell_type": "markdown",
   "metadata": {},
   "source": [
    "### 1.3 Regression lines\n",
    "\n",
    "Create a scatterplot of housing price on rooms per house, and add the two regression lines from 1.1 (or 1.2 if you prefer to do so). Show the linear regression line in red, and the linear+quadratic regression line (which may have curvature) in blue.  Label these two regression lines with the corresponding regression equations (i.e. the slope and intercept of the line).\n",
    "\n",
    "Bonus: Add the 95% confidence bands (i.e.,  the area that has a 95% chance of containing the true regression line) to each of these lines.\n",
    "\n",
    "Note: You can get 2 points even without the confidence bands (if the other lines are correct, the axes are labeled, the lines are labeled, the points are plotted correctly, and so forth). If you do everything perfectly including the confidence bands, you get 2 points. If you do something else wrong and would normally receive less than two points, the confidence intervals can replace lost points up to 0.5.\n",
    "\n",
    "Useful reference: [1](https://www.medcalc.org/manual/scatter_diagram_regression_line.php), [2](https://rpubs.com/aaronsc32/regression-confidence-prediction-intervals)\n",
    "\n",
    "You can directly use some packages to calculate the bands."
   ]
  },
  {
   "cell_type": "markdown",
   "metadata": {},
   "source": [
    "\n"
   ]
  },
  {
   "cell_type": "code",
   "execution_count": 5,
   "metadata": {},
   "outputs": [
    {
     "data": {
      "image/png": "[encoded data removed]",
      "text/plain": [
       "<Figure size 792x504 with 1 Axes>"
      ]
     },
     "metadata": {
      "needs_background": "light"
     },
     "output_type": "display_data"
    }
   ],
   "source": [
    "# Your code here\n",
    "from scipy import stats\n",
    "\n",
    "# Compute confidence bands 1\n",
    "Y_hat = reg.predict(X_RM) # predict y values of original data using the fit\n",
    "Y_err = Y - Y_hat # calculate the residuals\n",
    "s_err = np.sum(np.power(Y_err, 2)) # sum of the squares of the residuals\n",
    "nn = len(X_RM) # number of samples in origional fit\n",
    "dof = nn - 1 - 1 # degrees of freedom\n",
    "t = stats.t.ppf(1-0.025, df=dof) # calculate t-value for 0.95 confidence level\n",
    "X_pred = np.linspace(X_RM.min(), X_RM.max(), 50).reshape(-1,1) # create new test x-values to predict for\n",
    "Y_pred = reg.predict(X_pred) # prediction for new test x-values\n",
    "conf = t * np.sqrt((s_err/(nn-2))*(1 + (1.0/nn) + (np.power((X_pred-X_pred.mean()),2) / \n",
    "       ((np.sum(np.power(X_pred,2))) - nn*(np.power(X_pred.mean(),2)))))) \n",
    "\n",
    "upper = Y_pred + abs(conf)\n",
    "lower = Y_pred - abs(conf)\n",
    "\n",
    "# Compute confidence bands 2\n",
    "Y_hat2 = reg2.predict(X_regress) # predict y values of original data using the fit\n",
    "Y_err2 = Y - Y_hat2 # calculate the residuals\n",
    "s_err2 = np.sum(np.power(Y_err2, 2)) # sum of the squares of the residuals\n",
    "nn2 = len(X_RM) # number of samples in origional fit\n",
    "dof2 = nn2 - 2 - 1 # degrees of freedom\n",
    "t2 = stats.t.ppf(1-0.025, df=dof2) # calculate t-value for 0.95 confidence level\n",
    "X_pred2 = np.column_stack((X_pred, np.power(X_pred, 2))) # create new test x-values to predict for\n",
    "Y_pred2 = reg2.predict(X_pred2) # prediction for new test x-values\n",
    "conf2 = t2 * np.sqrt((s_err2/(nn2-3))*(1 + (1.0/nn2) + (np.power((X_pred2-X_pred2.mean()),2) / \n",
    "       ((np.sum(np.power(X_pred2,2))) - nn2*(np.power(X_pred2.mean(),2)))))) \n",
    "\n",
    "upper2 = Y_pred2 + abs(conf2)\n",
    "lower2 = Y_pred2 - abs(conf2)\n",
    "\n",
    "# Create the scatter plot \n",
    "plt.figure(figsize=(11,7))\n",
    "ax = plt.subplot(111)\n",
    "plt.scatter(X_RM, Y, s =50, c='green', marker = 'o', alpha=0.5)\n",
    "plt.xlabel(\"Rooms per house\")\n",
    "plt.ylabel(\"Housing price\")\n",
    "plt.title(\"Scatterplot: Housing price on rooms per house\")\n",
    "\n",
    "plt.plot(X_RM, reg.predict(X_RM), label = \"y1 = 9.1021x - 34.6706\", color = 'red', linewidth = 3)\n",
    "\n",
    "plt.scatter(X_RM, reg2.predict(X_regress), label = \"y2 = -22.6432x + 2.4701x^2 + 66.0588\", color = 'blue')\n",
    "\n",
    "plt.plot(X_pred, lower,'--', label = \"Lower confidence limit (95%) - y1\", linewidth = 2, color = 'red')\n",
    "plt.plot(X_pred, upper,'--', label = \"Upper confidence limit (95%) - y1\", linewidth = 2, color = 'red')\n",
    "\n",
    "plt.plot(X_pred, lower2,'--', label = \"Lower confidence limit (95%) - y2\", linewidth = 2, color = 'blue')\n",
    "plt.plot(X_pred, upper2,'--', label = \"Upper confidence limit (95%) - y2\", linewidth = 2, color = 'blue')\n",
    "\n",
    "handles, labels = plt.gca().get_legend_handles_labels()\n",
    "by_label = dict(zip(labels, handles))\n",
    "plt.legend(by_label.values(), by_label.keys(), loc = 4)\n",
    "plt.show()\n"
   ]
  },
  {
   "cell_type": "markdown",
   "metadata": {},
   "source": [
    "## Part 2: Gradient descent: Linear Regression\n",
    "\n",
    "This is where it gets fun!\n",
    "\n",
    "### 2.1 Implement gradient descent with one independent variable (average rooms per house)\n",
    "\n",
    "Implement the batch gradient descent algorithm that we discussed in class. Use the version you implement to regress the housing price on the number of rooms per house. Experiment with 3-4 different values of the learning rate *R*, and do the following:\n",
    "\n",
    "* Report the values of alpha and beta that minimize the loss function\n",
    "* Report the number of iterations it takes for your algorithm to converge (for each value of *R*)\n",
    "* Report the total running time of your algorithm, in seconds\n",
    "* How do your coefficients compare to the ones estimated through standard libraries? Does this depend on *R*?\n",
    "\n",
    "Some skeleton code is provided below, but you should feel free to delete this code and start from scratch if you prefer.\n",
    "\n",
    "* *Hint 1: Don't forget to implement a stopping condition, so that at every iteration you check whether your results have converged. Common approaches to this are to (a) check to see if the loss has stopped decreasing; and (b) check if both your current parameter esimates are close to the estimates from the previous iteration.  In both cases, \"close\" should not be ==0, it should be <=epsilon, where epsilon is something very small (like 0.0001).*\n",
    "* *Hint 2: Some people like to include a MaxIterations parameter in their gradient descent algorithm, to prevent divergence. *"
   ]
  },
  {
   "cell_type": "code",
   "execution_count": 6,
   "metadata": {},
   "outputs": [
    {
     "name": "stderr",
     "output_type": "stream",
     "text": [
      "/Users/ilgindogan/opt/anaconda3/lib/python3.7/site-packages/numpy/core/_methods.py:38: RuntimeWarning: overflow encountered in reduce\n",
      "  return umr_sum(a, axis, dtype, out, keepdims, initial, where)\n",
      "/Users/ilgindogan/opt/anaconda3/lib/python3.7/site-packages/ipykernel_launcher.py:55: RuntimeWarning: overflow encountered in square\n",
      "/Users/ilgindogan/opt/anaconda3/lib/python3.7/site-packages/ipykernel_launcher.py:52: RuntimeWarning: invalid value encountered in subtract\n"
     ]
    },
    {
     "name": "stdout",
     "output_type": "stream",
     "text": [
      "R = 0.1\n",
      "Intercept is nan and slope is [[nan]] in 621 iterations\n",
      "Time taken: 0.02 seconds\n",
      "R = 0.048\n",
      "Intercept is -34.66888949518813 and slope is [[9.10183681]] in 17202 iterations\n",
      "Time taken: 0.39 seconds\n",
      "R = 0.01\n",
      "Intercept is -34.662305207431764 and slope is [[9.10080173]] in 69512 iterations\n",
      "Time taken: 1.47 seconds\n",
      "R = 0.001\n",
      "Intercept is -34.5874521642027 and slope is [[9.08903445]] in 503790 iterations\n",
      "Time taken: 10.61 seconds\n",
      "R = 0.0001\n",
      "Intercept is -33.838925281822945 and slope is [[8.97136223]] in 3131171 iterations\n",
      "Time taken: 65.65 seconds\n"
     ]
    }
   ],
   "source": [
    "import time\n",
    "\n",
    "\"\"\"\n",
    "Function\n",
    "--------\n",
    "bivariate_ols\n",
    "    Gradient Decent to minimize OLS. Used to find co-efficients of bivariate OLS Linear regression\n",
    "\n",
    "Parameters\n",
    "----------\n",
    "xvalues, yvalues : narray\n",
    "    xvalues: independent variable\n",
    "    yvalues: dependent variable\n",
    "    \n",
    "R: float\n",
    "    Learning rate\n",
    "    \n",
    "MaxIterations: Int\n",
    "    maximum number of iterations\n",
    "    \n",
    "\n",
    "Returns\n",
    "-------\n",
    "alpha: float\n",
    "    intercept\n",
    "    \n",
    "beta: float\n",
    "    co-efficient\n",
    "\"\"\"\n",
    "def bivariate_ols(xvalues, yvalues, R=0.01, MaxIterations=1000):\n",
    "    start_time = time.time()\n",
    "    \n",
    "    # Initialize the parameters\n",
    "    alpha_old = np.random.rand()\n",
    "    beta_old = np.random.rand()\n",
    "    alpha_new = np.random.rand()\n",
    "    beta_new = np.random.rand()\n",
    "    n = len(xvalues)\n",
    "    \n",
    "    # Tolerance and iteration counter\n",
    "    epsilon = 1e-6\n",
    "    cnt = 0    \n",
    "    \n",
    "    # Run the iterations \n",
    "    while(np.abs(alpha_old-alpha_new) > epsilon or np.abs(beta_old-beta_new) > epsilon):\n",
    "        alpha_old = alpha_new\n",
    "        beta_old = beta_new\n",
    "        \n",
    "        # Update rules\n",
    "        vec0 = alpha_old + beta_old * xvalues - yvalues\n",
    "        alpha_new = alpha_old - R / n * (vec0.sum())\n",
    "        beta_new = beta_old - R / n * np.dot(xvalues.T, vec0)\n",
    "        \n",
    "        # Print the cost to check it is decreasing\n",
    "        cost = 1.0 / (2*n) * (((alpha_new + beta_new * xvalues - yvalues) ** 2).sum())\n",
    "        #print(cost)\n",
    "        \n",
    "        # Terminate if it takes too many iterations \n",
    "        cnt += 1\n",
    "        if cnt > MaxIterations:\n",
    "            print('Iterations exceeded maximum number. Stopping...')\n",
    "            break       \n",
    "    \n",
    "    total_time = time.time() - start_time\n",
    "\n",
    "    return alpha_new, beta_new, cnt, total_time \n",
    "\n",
    "# example function call\n",
    "# print(bivariate_ols(X, Y, 0.01, 100000))\n",
    "\n",
    "R_list = [0.1, 0.048, 0.01, 0.001, 0.0001]\n",
    "for r in R_list: \n",
    "    intercept, slope, iters, total_time = bivariate_ols(X_RM, Y, r, 1000000000)\n",
    "    print('R = {}'.format(r))\n",
    "    print('Intercept is {} and slope is {} in {} iterations'.format(intercept, slope, iters))\n",
    "    print(\"Time taken: {:.2f} seconds\".format(total_time))\n"
   ]
  },
  {
   "cell_type": "markdown",
   "metadata": {},
   "source": [
    "*Enter your observations here*\n",
    "\n",
    "<font color='blue'>  *Note the stopping condition that I have used is to checking whether both of the current parameter esimates are close to the estimates from the previous iteration up to a tolerance of epsilon = 1e-6. Also, I have included a MaxIterations parameter in the algorithm, to prevent divergence.*\n",
    "  \n",
    "*The different values of the learning rate R that are used in this experiment are 0.1, 0.048, 0.01, 0.001, 0.0001. The values of the coefficients alpha and beta that minimize the loss function for each value of R are reported above.*\n",
    "    \n",
    "*Note that the algorithm diverges for R = 0.1, i.e. the cost function progressively increases until infinity. So, I have used smaller R values and observed that the algorithm converges to the coefficient values, that are the closest ones to the values estimated in part 1.1 through standard libraries (intercept = -34.67062078, slope = 9.10210898), for R = 0.048. However, as the value of R further decreases, the converged values of the coefficients get farther away from the estimated values in part 1.1.*\n",
    "<br/><br/> \n",
    "*The number of iterations and total running time (in seconds) it takes for the algorithm to converge are also reported above for each value of R. It can be seen that as the learning rate decreases, the number of iterations required for convergence and the running time increases.*\n",
    "</font> "
   ]
  },
  {
   "cell_type": "markdown",
   "metadata": {},
   "source": [
    "### 2.2 Data normalization (done for you!)\n",
    "\n",
    "Soon, you will implement a version of gradient descent that can use an arbitrary number of independent variables. Before doing this, we want to give you some code in case you want to standardize your features."
   ]
  },
  {
   "cell_type": "code",
   "execution_count": 7,
   "metadata": {},
   "outputs": [],
   "source": [
    "def standardize(raw_data):\n",
    "    return ((raw_data - np.mean(raw_data, axis = 0)) / np.std(raw_data, axis = 0))"
   ]
  },
  {
   "cell_type": "markdown",
   "metadata": {},
   "source": [
    "### 2.3 Implement gradient descent with an arbitrary number of independent variables\n",
    "\n",
    "Now that you have a simple version of gradient descent working, create a version of gradient descent that can take more than one independent variable.  Assume all independent variables will be continuous.  Test your algorithm using CRIM and RM as independent variables. Standardize these variables before before inputting them to the gradient descent algorithm. \n",
    "\n",
    "As before,  report and interpret your estimated coefficients, the number of iterations before convergence, and the total running time of your algorithm. Experiment with 2-3 different values of R.\n",
    "\n",
    "* *Hint 1: Be careful to implement this efficiently, otherwise it might take a long time for your code to run. Commands like `np.dot` can be a good friend to you on this problem*"
   ]
  },
  {
   "cell_type": "code",
   "execution_count": 8,
   "metadata": {},
   "outputs": [
    {
     "name": "stdout",
     "output_type": "stream",
     "text": [
      "R = 0.1\n",
      "Intercept is 22.53280132959751 and slope is [ 5.88986822 -2.27642196] in 145 iterations\n",
      "Time taken: 0.01 seconds\n",
      "R = 0.01\n",
      "Intercept is 22.532707445365837 and slope is [ 5.88978439 -2.27650348] in 1223 iterations\n",
      "Time taken: 0.05 seconds\n",
      "R = 0.001\n",
      "Intercept is 22.531807744189834 and slope is [ 5.8892917  -2.27695782] in 10011 iterations\n",
      "Time taken: 0.35 seconds\n",
      "R = 0.0001\n",
      "Intercept is 22.522807814655824 and slope is [ 5.8851899  -2.28039649] in 76835 iterations\n",
      "Time taken: 3.31 seconds\n"
     ]
    }
   ],
   "source": [
    "\"\"\"\n",
    "Function\n",
    "--------\n",
    "multivariate_ols\n",
    "    Gradient Decent to minimize OLS. Used to find co-efficients of bivariate OLS Linear regression\n",
    "\n",
    "Parameters\n",
    "----------\n",
    "xvalue_matrix, yvalues : narray\n",
    "    xvalue_matrix: independent variable\n",
    "    yvalues: dependent variable\n",
    "    \n",
    "R: float\n",
    "    Learning rate\n",
    "    \n",
    "MaxIterations: Int\n",
    "    maximum number of iterations\n",
    "    \n",
    "\n",
    "Returns\n",
    "-------\n",
    "alpha: float\n",
    "    intercept\n",
    "    \n",
    "beta_array: array[float]\n",
    "    co-efficient\n",
    "\"\"\"\n",
    "\n",
    "def multivariate_ols(xvalue_matrix, yvalues, R=0.01, MaxIterations=1000):\n",
    "    # your code here\n",
    " \n",
    "    start_time = time.time()\n",
    "\n",
    "    # Initialize the parameters\n",
    "    N, m = np.shape(xvalue_matrix)\n",
    "    alpha_old = np.random.rand()\n",
    "    alpha_new = np.random.rand()\n",
    "    beta_old = np.random.rand(m)\n",
    "    beta_new = np.random.rand(m)\n",
    "    \n",
    "    # Tolerance and iteration counter\n",
    "    cost_list = np.empty(1)\n",
    "    epsilon = 1e-6\n",
    "    cnt = 0    \n",
    "    \n",
    "    # Run the iterations \n",
    "    while(np.abs(alpha_old-alpha_new) > epsilon or np.max(np.abs(beta_old-beta_new)) > epsilon):\n",
    "        alpha_old = alpha_new\n",
    "        beta_old = beta_new\n",
    "        \n",
    "        # Update rules\n",
    "        vec2 = alpha_old +  np.dot(xvalue_matrix, beta_old) - yvalues\n",
    "        alpha_new = alpha_old - R / N * (vec2.sum())\n",
    "        beta_new = beta_old - R / N * np.dot(xvalue_matrix.T, vec2)\n",
    "        \n",
    "        # Print the cost to check it is decreasing\n",
    "        cost = 1.0 / (2*N) * np.linalg.norm(yvalues - alpha_new - np.dot(xvalue_matrix, beta_new))**2\n",
    "        cost_list= np.append(cost_list, cost)\n",
    "        #print(cost)\n",
    "        \n",
    "        # Terminate if it takes too many iterations \n",
    "        cnt += 1\n",
    "        if cnt > MaxIterations:\n",
    "            print('Iterations exceeded maximum number. Stopping...')\n",
    "            break   \n",
    "                \n",
    "    total_time = time.time() - start_time\n",
    "\n",
    "    return alpha_new, beta_new, cnt, cost_list, total_time\n",
    "\n",
    "R_list = [0.1, 0.01, 0.001, 0.0001]\n",
    "X_CRIM_std = standardize(np.array(boston['CRIM']).reshape(-1,1)) \n",
    "X_RM_std = standardize(X_RM)\n",
    "XX = np.column_stack((X_RM_std, X_CRIM_std))\n",
    "\n",
    "for r in R_list: \n",
    "    intercept, slope, iters, cost_list, total_time = multivariate_ols(XX, Y.ravel(), r, 1000000)\n",
    "    print('R = {}'.format(r))\n",
    "    print('Intercept is {} and slope is {} in {} iterations'.format(intercept, slope, iters))\n",
    "    print(\"Time taken: {:.2f} seconds\".format(total_time))\n"
   ]
  },
  {
   "cell_type": "markdown",
   "metadata": {},
   "source": [
    "### *Test (standardized) multivariate GD by LinearRegression()*"
   ]
  },
  {
   "cell_type": "code",
   "execution_count": 9,
   "metadata": {},
   "outputs": [
    {
     "name": "stdout",
     "output_type": "stream",
     "text": [
      "Intercept is [22.53280632] and Slopes are [[ 5.88987972 -2.27641052]] \n"
     ]
    }
   ],
   "source": [
    "reg_multi = LinearRegression().fit(XX, Y)\n",
    "print(\"Intercept is {} and Slopes are {} \".format(reg_multi.intercept_, reg_multi.coef_))"
   ]
  },
  {
   "cell_type": "markdown",
   "metadata": {},
   "source": [
    "*Enter your observations here*\n",
    "\n",
    "<font color='blue'>*Note the stopping condition that I have used is to checking whether all the current parameter esimates are close to the estimates from the previous iteration up to a tolerance of epsilon = 1e-6. Also, I have included a MaxIterations parameter in the algorithm, to prevent divergence.*\n",
    "  \n",
    "*The different values of the learning rate R that are used in this experiment are 0.1, 0.01, 0.001, 0.0001. The values of the coefficients alpha and beta that minimize the loss function for each value of R are reported above.*\n",
    "\n",
    "*In order to test the results of the multivariate gradient descent algorithm, I have regressed the housing price on the variables CRIM and RM using LinearRegression(). It can be seen that the converged values of the coefficients are the closest ones to the estimated values through standard libraries for R = 0.1. As the learning rate further decreases, the converged values of the coefficients get farther away from the estimated values by LinearRegression().*\n",
    "<br/><br/> \n",
    "*The number of iterations and total running time (in seconds) it takes for the algorithm to converge are also reported above for each value of R. It can be seen that as the learning rate decreases, the number of iterations required for convergence and the running time increases.*\n",
    "</font> "
   ]
  },
  {
   "cell_type": "markdown",
   "metadata": {},
   "source": [
    "### 2.4 Compare standardized vs. non-standardized results\n",
    "\n",
    "Repeat the analysis from 2.3, but this time do not standardize your variables - i.e., use the original data. Use the same three values of R (0.1, 0.01, and 0.001). What do you notice about the running time and convergence properties of your algorithm?"
   ]
  },
  {
   "cell_type": "code",
   "execution_count": 10,
   "metadata": {},
   "outputs": [
    {
     "name": "stdout",
     "output_type": "stream",
     "text": [
      "R = 0.1\n",
      "Intercept is nan and slope is [nan nan] in 330 iterations\n",
      "Time taken: 0.02 seconds\n"
     ]
    },
    {
     "name": "stderr",
     "output_type": "stream",
     "text": [
      "/Users/ilgindogan/opt/anaconda3/lib/python3.7/site-packages/ipykernel_launcher.py:54: RuntimeWarning: invalid value encountered in subtract\n"
     ]
    },
    {
     "name": "stdout",
     "output_type": "stream",
     "text": [
      "R = 0.01\n",
      "Intercept is -29.235797447860207 and slope is [ 8.3896816  -0.26494298] in 72599 iterations\n",
      "Time taken: 3.07 seconds\n",
      "R = 0.001\n",
      "Intercept is -29.155483788219552 and slope is [ 8.37719932 -0.26521061] in 518576 iterations\n",
      "Time taken: 48.33 seconds\n",
      "Iterations exceeded maximum number. Stopping...\n",
      "R = 0.0001\n",
      "Intercept is -19.529226752433775 and slope is [ 6.88109464 -0.29728841] in 1000001 iterations\n",
      "Time taken: 217.31 seconds\n"
     ]
    }
   ],
   "source": [
    "# Your code here\n",
    "\n",
    "X_CRIM = np.array(boston['CRIM']).reshape(-1,1)\n",
    "XX_nonstd= np.column_stack((X_RM, X_CRIM))\n",
    "\n",
    "R_list = [0.1, 0.01, 0.001, 0.0001]\n",
    "for r in R_list: \n",
    "    intercept, slope, iters, cost_list, total_time = multivariate_ols(XX_nonstd, Y.ravel(), r, 1000000)\n",
    "    print('R = {}'.format(r))\n",
    "    print('Intercept is {} and slope is {} in {} iterations'.format(intercept, slope, iters))\n",
    "    print(\"Time taken: {:.2f} seconds\".format(total_time))"
   ]
  },
  {
   "cell_type": "markdown",
   "metadata": {},
   "source": [
    "### *Test (non-standardized) multivariate GD by LinearRegression()*"
   ]
  },
  {
   "cell_type": "code",
   "execution_count": 11,
   "metadata": {},
   "outputs": [
    {
     "name": "stdout",
     "output_type": "stream",
     "text": [
      "Intercept is [-29.24471945] and Slopes are [[ 8.39106825 -0.26491325]] \n"
     ]
    }
   ],
   "source": [
    "reg_nonstd_multi = LinearRegression().fit(XX_nonstd, Y)\n",
    "print(\"Intercept is {} and Slopes are {} \".format(reg_nonstd_multi.intercept_, reg_nonstd_multi.coef_))"
   ]
  },
  {
   "cell_type": "markdown",
   "metadata": {},
   "source": [
    "*Enter your observations here*\n",
    "\n",
    "<font color='blue'>*The different values of the learning rate R that are used in this experiment are 0.1, 0.01, 0.001, 0.0001. The values of the coefficients alpha and beta that minimize the loss function for each value of R are reported above.*\n",
    "\n",
    "*Note that the algorithm diverges for R = 0.1, i.e. the cost function progressively increases until infinity. But it converges for smaller R values. In order to test the results of the multivariate gradient descent algorithm, I have regressed the housing price on the non-standardized values of the variables CRIM and RM using LinearRegression(). It can be seen that the converged values of the coefficients are the closest ones to the estimated values through standard libraries for R = 0.01. As the learning rate further decreases, the converged values of the coefficients get farther away from the estimated values by LinearRegression(). In addition, for R = 0.0001, the algorithm terminates since the maximum number of iterations (1,000,000) is exceeded. Hence, 0.0001 seems to be an inappropriately small learning rate for this dataset.*\n",
    "\n",
    "*The number of iterations and total running time (in seconds) it takes for the algorithm to converge are also reported above for each value of R. It can be seen that as the learning rate decreases, the number of iterations required for convergence and the running time increases. Compared with the results for standardized data, we see that the running time significantly increases when we do not standardize the data before performing regression. For instance, for R = 0.01, the algorithm converges in 0.05 seconds and in 3.07 seconds, for standardized and non-standardized data, respectively.*\n",
    "</font> "
   ]
  },
  {
   "cell_type": "markdown",
   "metadata": {},
   "source": [
    "### **2.5 Implement  Mini-Batch Gradient Descent (MB-GD)**\n",
    "MB-GD is a Gradient Descent variant that in large data sets can converge faster and is computationally less intensive. Implement MB-GD for question 2.3. Tune the learning rate, number of iterations and \"mini-batch\" size\n",
    "so that you compute the estimates within a 1e-2 tolerance. Do not use a batch-size greater than 32.\n",
    "In summary you go over the entire data set for n epochs. At the beginning of each epoch you shuffle your data once and then you pick k batches (approximately k=#of data points/batch_size). For each batch you compute the gradient, update the parameters and move to the next batch.\n",
    "MB-GD is similar to Stochastic Gradient Descent but instead of using one sample to compute the gradient we use a batch of samples at each iteration. You can find details about MB-GD here:\n",
    "https://en.wikipedia.org/wiki/Stochastic_gradient_descent"
   ]
  },
  {
   "cell_type": "code",
   "execution_count": 12,
   "metadata": {},
   "outputs": [
    {
     "name": "stdout",
     "output_type": "stream",
     "text": [
      "R = 0.1 and Batch Size = 8\n",
      "Intercept is 22.532109717433443 and slope is [ 5.89359365 -2.27487484] in 16103 iterations\n",
      "Time taken: 23.81 seconds\n",
      "R = 0.1 and Batch Size = 16\n",
      "Intercept is 22.53801496643233 and slope is [ 5.89002514 -2.27174412] in 221493 iterations\n",
      "Time taken: 167.86 seconds\n",
      "R = 0.1 and Batch Size = 32\n",
      "Intercept is 22.53603141914396 and slope is [ 5.88824935 -2.27212396] in 849239 iterations\n",
      "Time taken: 359.31 seconds\n",
      "R = 0.01 and Batch Size = 8\n",
      "Intercept is 22.53291055208456 and slope is [ 5.8899428  -2.27617355] in 9570 iterations\n",
      "Time taken: 13.48 seconds\n",
      "R = 0.01 and Batch Size = 16\n",
      "Intercept is 22.532870471467216 and slope is [ 5.88979329 -2.2761227 ] in 345022 iterations\n",
      "Time taken: 271.57 seconds\n",
      "R = 0.01 and Batch Size = 32\n",
      "Intercept is 22.532906747335105 and slope is [ 5.88981585 -2.27619076] in 1000000 iterations\n",
      "Time taken: 483.84 seconds\n",
      "R = 0.001 and Batch Size = 8\n",
      "Intercept is 22.532816732867165 and slope is [ 5.88987936 -2.276381  ] in 19105 iterations\n",
      "Time taken: 30.16 seconds\n",
      "R = 0.001 and Batch Size = 16\n",
      "Intercept is 22.5328172599829 and slope is [ 5.88987887 -2.27638337] in 172858 iterations\n",
      "Time taken: 150.83 seconds\n",
      "R = 0.001 and Batch Size = 32\n",
      "Intercept is 22.532815731356383 and slope is [ 5.88988172 -2.2763839 ] in 1000000 iterations\n",
      "Time taken: 444.72 seconds\n"
     ]
    }
   ],
   "source": [
    "# Your code here\n",
    "from sklearn.utils import shuffle\n",
    "\n",
    "def multivariate_ols_minibatch(xvalue_matrix, yvalues, R=0.1, MaxIterations=1000, BatchSize = 8):  \n",
    "    start_time = time.time()\n",
    "\n",
    "    # Initialize the parameters\n",
    "    N, m = np.shape(xvalue_matrix)\n",
    "    alpha = np.random.rand()\n",
    "    beta = np.random.rand(m)\n",
    "    \n",
    "    # Keep track of the objective function to determine convergence\n",
    "    cost_old = np.inf\n",
    "    cost_new = np.linalg.norm(yvalues)\n",
    "    \n",
    "    # Tolerance and iteration counter\n",
    "    epsilon = 1e-6\n",
    "    cnt = 0\n",
    "    \n",
    "    # Run the iterations \n",
    "    for i in range(MaxIterations):\n",
    "        cost_old = cost_new\n",
    "        \n",
    "        # Shuffle data\n",
    "        Xb, yb = shuffle(xvalue_matrix, yvalues)\n",
    "        \n",
    "        # For each of the floor(n/K) batches do gradient steps\n",
    "        for offset in range(0, N, BatchSize):\n",
    "            end = offset + BatchSize\n",
    "            batchx, batchy = Xb[offset:end], yb[offset:end]  \n",
    "            \n",
    "            # Update rules\n",
    "            alpha -= R / N * ((alpha + np.dot(batchx, beta) - batchy).sum())\n",
    "            beta -= R / N * np.dot(batchx.T, (alpha + np.dot(batchx, beta) - batchy))         \n",
    "            cost_new = 1.0 / (2*N) * np.linalg.norm(batchy - alpha - np.dot(batchx, beta))**2\n",
    "                      \n",
    "        # Stop if cost converges or if the number of iterations exceeds the limit \n",
    "        cnt += 1\n",
    "        if((np.abs(cost_old-cost_new) < epsilon) or (cnt > MaxIterations)):\n",
    "            break\n",
    "    \n",
    "    total_time = time.time() - start_time\n",
    "        \n",
    "    return alpha, beta, cnt, total_time\n",
    "\n",
    "R_list = [0.1, 0.01, 0.001]\n",
    "batchsize_list = [8, 16, 32]\n",
    "X_CRIM_std = standardize(np.array(boston['CRIM']).reshape(-1,1)) \n",
    "X_RM_std = standardize(X_RM)\n",
    "XX = np.column_stack((X_RM_std, X_CRIM_std))\n",
    "\n",
    "for r in R_list: \n",
    "    for b in batchsize_list:        \n",
    "        intercept, slope, iters, total_time = multivariate_ols_minibatch(XX, Y.ravel(), r, 1000000, b)\n",
    "        print('R = {} and Batch Size = {}'.format(r, b))\n",
    "        print('Intercept is {} and slope is {} in {} iterations'.format(intercept, slope, iters))\n",
    "        print(\"Time taken: {:.2f} seconds\".format(total_time))\n"
   ]
  },
  {
   "cell_type": "markdown",
   "metadata": {},
   "source": [
    "Enter your observations here. Did you observe speedup in the convergence?\n",
    "\n",
    "<font color='blue'>*The different values of the learning rate R that are used in this experiment are 0.1, 0.01, 0.001, and the different number of batches that are experimented are 8, 16, 32. The values of the coefficients alpha and beta that minimize the loss function for each R value and batch size are reported above.*\n",
    "    \n",
    "*Recall that I have regressed the housing price on the standardized variables CRIM and RM using LinearRegression() above in part 2.3. It can be seen that the converged values of the coefficients in this part are the closest ones to the estimated values through standard libraries, that is LinearRegression(), for R = 0.001 and batch size 8.* \n",
    "\n",
    "*The number of iterations and total running time (in seconds) it takes for the algorithm to converge are also reported above for each R value and batch size. It can be seen that for a fixed batch size, as the learning rate decreases, the number of iterations required for convergence and the running time increases on the average. Also, for a fixed learning rate, as the batch size increases, the number of iterations required for convergence and the running time increases on the average.*\n",
    "<br/><br/> \n",
    "*Comparison with batch GD: Although it is known that each iteration is faster to compute in mini-batch GD, here we observe that the number of iterations and total running time that are required for convergence of mini-batch GD are significantly higher than those of batch GD. For this specific dataset, it is probably because of the simplicity of our model, we see that batch GD is not too computationally intensive to compute anyways, and hence we do not observe speedup in the convergence.*\n",
    "</font> "
   ]
  },
  {
   "cell_type": "markdown",
   "metadata": {},
   "source": [
    "## 3. Prediction\n",
    "\n",
    "Let's use our fitted model to make predictions about housing prices. Make sure to first standardize your features before proceeding.\n",
    "\n",
    "### 3.1 Cross-Validation\n",
    "\n",
    "Unless you were careful above, you probably overfit your data again. Let's fix that in one of two ways. If you're feeling confident, use k-fold cross-validation to re-fit the multivariate regression from 2.3 above, and report your estimated coefficients (there should be three, corresponding to the intercept and the two coefficients for CRIM and RM). Or if you want to do the quick and dirty version, randomly divide your data into a training set (66%) and testing set (34%) and use the training set to re-fit the regression from 2.3 above. \n",
    "\n",
    "*NOTE: * If using k-fold cross-validation, you will end up with a different set of parameters for each fold. In this case, use the parameters from the fold that has the highest test performance."
   ]
  },
  {
   "cell_type": "code",
   "execution_count": 13,
   "metadata": {},
   "outputs": [
    {
     "name": "stdout",
     "output_type": "stream",
     "text": [
      "Estimated coefficients from 10-fold CV for multivariate GD: Intercept = 22.55002134994346, Slopes = [ 5.8506884  -2.29220888]\n"
     ]
    }
   ],
   "source": [
    "# Your code here\n",
    "from sklearn.metrics import mean_squared_error\n",
    "from math import sqrt\n",
    "\n",
    "# Perform 10-fold CV\n",
    "kf2 = KFold(n_splits=10)\n",
    "slopes = np.zeros((10,2))\n",
    "intercepts = np.zeros(10)\n",
    "rmse_values = np.zeros(10)\n",
    "i = 0\n",
    "for train_idx, test_idx in kf2.split(XX):\n",
    "    train_x = XX[train_idx]\n",
    "    train_y = Y[train_idx]\n",
    "    test_x = XX[test_idx]\n",
    "    test_y = Y[test_idx]\n",
    "    \n",
    "    # Fit the multivariate regression\n",
    "    intercepts[i], slopes[i], iters, cost_list, total_time = multivariate_ols(train_x, train_y.ravel(), 0.001, 10000000)\n",
    "    \n",
    "    # Test the performance \n",
    "    pred_test = intercepts[i] + np.dot(test_x, slopes[i])\n",
    "    pred_test = pred_test.reshape((len(test_y), 1))\n",
    "    rmse_values[i] = sqrt(mean_squared_error(test_y, pred_test))    \n",
    "    i += 1 \n",
    "\n",
    "# Find the set of parameters that has the highest test performance\n",
    "min_idx = np.argmin(rmse_values)\n",
    "print('Estimated coefficients from 10-fold CV for multivariate GD: Intercept = {}, Slopes = {}'\n",
    "      .format(intercepts[min_idx], slopes[min_idx]))\n"
   ]
  },
  {
   "cell_type": "markdown",
   "metadata": {},
   "source": [
    "*Discuss your results here*\n",
    "\n",
    "<font color='blue'>*In this part, I have used 10-fold cross-validation to re-fit the multivariate regression from 2.3 above. The learning rate is 0.001. The parameters estimated from the fold that has the highest test performance, i.e. has the minimum RMSE value, are reported as: intercept = 22.5500, coefficient of RM = 5.8507 and coefficient of CRIM = -2.2921.*\n",
    "</font> "
   ]
  },
  {
   "cell_type": "markdown",
   "metadata": {},
   "source": [
    "### 3.2 Predicted values and RMSE\n",
    "\n",
    "Let's figure out how accurate this predictive model turned out to be. Compute the RMSE on your test cases, i.e. take the model parameters that you found above, predict the values for just the test instances, and compare the actual to the predicted values. If you did this the k-fold way above, this will be the average RMSE across the k test sets. If you did this the quick and dirty way above, this will just be the RMSE on your single test set.\n",
    "\n",
    "What is your test RMSE?  How does it compare to the performance of your nearest neighbor algorithm from the last problem set?"
   ]
  },
  {
   "cell_type": "code",
   "execution_count": 14,
   "metadata": {},
   "outputs": [
    {
     "name": "stdout",
     "output_type": "stream",
     "text": [
      "Average RMSE across the 10 test sets: 5.767975192553836.\n",
      "Average RMSE from 10-fold CV for the NN algorithm from PS3 was 7.38.\n"
     ]
    }
   ],
   "source": [
    "# Your code here\n",
    "\n",
    "print('Average RMSE across the 10 test sets: {}.'.format(np.average(rmse_values)))\n",
    "print('Average RMSE from 10-fold CV for the NN algorithm from PS3 was 7.38.')\n"
   ]
  },
  {
   "cell_type": "code",
   "execution_count": 20,
   "metadata": {},
   "outputs": [
    {
     "data": {
      "image/png": "[encoded data removed]",
      "text/plain": [
       "<Figure size 576x432 with 1 Axes>"
      ]
     },
     "metadata": {
      "needs_background": "light"
     },
     "output_type": "display_data"
    }
   ],
   "source": [
    "from mpl_toolkits.mplot3d import Axes3D\n",
    "\n",
    "fig = plt.figure(figsize=(8,6))\n",
    "ax = fig.add_subplot(111, projection='3d')\n",
    "\n",
    "for zlow, zhigh in [(0, 50), (0, 50)]:\n",
    "    ax.scatter(X_RM_std, X_CRIM_std, Y, s =50, marker='o')\n",
    "\n",
    "ax.set_xlabel(\"Rooms per house (RM)\")\n",
    "ax.set_ylabel(\"Crime rate (CRIM)\")\n",
    "ax.set_zlabel(\"Housing price (MEDV)\")\n",
    "plt.title(\"Scatterplot: Housing price on rooms per house and crime rate\")\n",
    "ax.view_init(-180, 60)\n",
    "plt.show()"
   ]
  },
  {
   "cell_type": "markdown",
   "metadata": {},
   "source": [
    "*Discuss your results here*\n",
    "\n",
    "<font color='blue'>*As printed above, the average test RMSE obtained by 10-fold cross validation for the multivariate OLS (solved by batch gradient descent algorithm) is 5.767975 and it is significantly smaller than that of the nearest neighbor algorithm from the last problem set (which was 7.38).* \n",
    "    \n",
    "*The nearest neighbor algorithm is generally expected to perform better when a complex and curved regression curve seems to fit the data better. On the other hand, OLS assumes that the response variable is well approximated by a globally linear function and it generates a single hypothesis that covers the entire instance space. In other words, it produces more generalizable and global predictions. In order to check this linearity assumption, I have plotted the 3-dimensional scatter plot above, that shows the relationship between the standardized independent variables RM and CRIM and the response variable MEDV. As can be seen, the regression curve that can fit this sample data looks like to be well approximated by a globally linear function. That might explain why the RMSE of multivariate OLS dominates the RMSE of the nearest neighbor algorithm.*\n",
    "</font> "
   ]
  },
  {
   "cell_type": "markdown",
   "metadata": {},
   "source": [
    "### Extra Credit 1: Logistic Regression\n",
    "\n",
    "For extra credit, implement logistic regression using gradient descent. Create a new variable (EXPENSIVE) to indicate whether the median housing price is more than $40,000. Use your model  a logistic regression of EXPENSIVE on CHAS and RM. Report your results."
   ]
  },
  {
   "cell_type": "code",
   "execution_count": 21,
   "metadata": {},
   "outputs": [
    {
     "name": "stdout",
     "output_type": "stream",
     "text": [
      "R = 0.001\n",
      "Intercept is -3.877005676968221 and slope is [1.73666337 0.78961163] in 729011 iterations\n",
      "Time taken: 36.84 seconds\n"
     ]
    }
   ],
   "source": [
    "# Your code here\n",
    "\n",
    "# Create new binary column using lambda functions (dataframes)\n",
    "boston['EXPENSIVE'] = boston.apply(lambda x: 1 if x['MEDV'] > 40 else 0, axis = 1)\n",
    "\n",
    "# Define a new function for implementing multivariate logistic regression using gradient descent \n",
    "def GD_logistic(xvalue_matrix, yvalues, R=0.01, MaxIterations=1000):\n",
    "    # your code here\n",
    " \n",
    "    start_time = time.time()\n",
    "    \n",
    "    # Initialize the parameters\n",
    "    N, m = np.shape(xvalue_matrix)\n",
    "    alpha_old = np.random.rand()\n",
    "    beta_old = np.random.rand(m)\n",
    "    alpha_new = np.random.rand()\n",
    "    beta_new = np.random.rand(m)\n",
    "    \n",
    "    # Tolerance and iteration counter\n",
    "    epsilon = 1e-6\n",
    "    cnt = 0    \n",
    "    \n",
    "    # Run the iterations \n",
    "    while(np.abs(alpha_old-alpha_new) > epsilon or np.max(np.abs(beta_old-beta_new)) > epsilon):\n",
    "        alpha_old = alpha_new\n",
    "        beta_old = beta_new\n",
    "\n",
    "        # Update rules\n",
    "        cc = np.array((alpha_old + np.dot(xvalue_matrix, beta_old)), dtype=np.float128)\n",
    "        vec_1 = 1.0 /(1 + np.exp(-cc)) - yvalues\n",
    "        alpha_new = alpha_old - R / N * (vec_1.sum())\n",
    "        beta_new = beta_old - R / N * np.dot(np.transpose(xvalue_matrix), vec_1)\n",
    "        \n",
    "        # Terminate if it takes too many iterations \n",
    "        cnt += 1\n",
    "        if cnt > MaxIterations:\n",
    "            print('Iterations exceeded maximum number. Stopping...')\n",
    "            break   \n",
    "                \n",
    "    total_time = time.time() - start_time\n",
    "\n",
    "    return alpha_new, beta_new, cnt, total_time\n",
    "\n",
    "Y_new = np.array(boston['EXPENSIVE']).reshape(-1,1)\n",
    "X_CHAS = np.array(boston['CHAS']).reshape(-1,1)\n",
    "X_log = np.column_stack((X_RM_std, X_CHAS))\n",
    "\n",
    "intercept, slope, iters, total_time = GD_logistic(X_log, Y_new.ravel(), 0.00014, 100000000)\n",
    "print('R = {}'.format(r))\n",
    "print('Intercept is {} and slope is {} in {} iterations'.format(intercept, slope, iters))\n",
    "print(\"Time taken: {:.2f} seconds\".format(total_time))"
   ]
  },
  {
   "cell_type": "markdown",
   "metadata": {},
   "source": [
    "### *Test logistic regression using gradient descent by LogisticRegression()*"
   ]
  },
  {
   "cell_type": "code",
   "execution_count": 22,
   "metadata": {},
   "outputs": [
    {
     "name": "stdout",
     "output_type": "stream",
     "text": [
      "Intercept is [-3.86416433] and Slopes are [[1.74290872 0.72653067]] \n"
     ]
    },
    {
     "name": "stderr",
     "output_type": "stream",
     "text": [
      "/Users/ilgindogan/opt/anaconda3/lib/python3.7/site-packages/sklearn/linear_model/logistic.py:432: FutureWarning: Default solver will be changed to 'lbfgs' in 0.22. Specify a solver to silence this warning.\n",
      "  FutureWarning)\n"
     ]
    }
   ],
   "source": [
    "from sklearn.linear_model import LogisticRegression\n",
    "\n",
    "boston['EXPENSIVE'] = boston.apply(lambda x: 1 if x['MEDV'] > 40 else 0, axis = 1)\n",
    "X_log = np.column_stack((X_RM_std, X_CHAS))\n",
    "\n",
    "reg_log = LogisticRegression().fit(X_log, np.array(boston['EXPENSIVE']))\n",
    "print(\"Intercept is {} and Slopes are {} \".format(reg_log.intercept_, reg_log.coef_))\n",
    "\n",
    "boston = boston.drop(columns=['EXPENSIVE'])"
   ]
  },
  {
   "cell_type": "markdown",
   "metadata": {},
   "source": [
    "*Discuss your results here*\n",
    "\n",
    "<font color='blue'>*The estimated coefficients for the logistic regression model using the batch gradient descent are reported above for the learning parameter R = 0.0001. In order to check these values, I have also regressed the variable EXPENSIVE on CHAS and RM by using LogisticRegression() from sklearn.linear_model. The estimated coefficients using the batch gradient descent can be interpreted as:* \n",
    "- *The odds ratio of being an expensive house when the house is not adjacent to the Charles River (CHAS = 0) and the average number of rooms per house is 0 (RM = 0) is equal to exp(-3.877005676968221) = 0.020712753.*\n",
    "- *For a fixed value of CHAS, the expected change in log-odds of being an expensive house is 1.73666337 for one-unit increase in the number of rooms per house (RM).*\n",
    "- *For a fixed number of rooms (RM), the expected change in log-odds of being an expensive house is 0.78961163 for being adjacent to the Charles River (one-unit increase in CHAS).*    \n",
    "- *For an house that is adjacent to the Charles River (CHAS = 1) and has 3 rooms (RM = 3), the log-odds ratio of being an expensive house is equal to -3.877006 + 1.736663 $\\cdot$ 3 + 0.789612 = 2.122596. In other words, if an house with 3 rooms is adjacent to the Charles River, then the probability that it will be an expensive house (i.e. its price will be more than \\\\$40,000) is 0.8931.*\n",
    "- *For an house that is not adjacent to the Charles River (CHAS = 0) and has 3 rooms (RM = 3), the log-odds ratio of being an expensive house is equal to -3.877006 + 1.736663 $\\cdot$ 3 = 1.332984. In other words, if an house with 3 rooms is not adjacent to the Charles River, then the probability that it will be an expensive house (i.e. its price will be more than \\\\$40,000) is 0.7913.*\n",
    "</font> "
   ]
  },
  {
   "cell_type": "markdown",
   "metadata": {},
   "source": [
    "## 4 Regularization \n",
    "\n",
    "### 4.1 Get prepped\n",
    "\n",
    "Step 1: Create new interaction variables between each possible pair of the F_s features. If you originally had *K* features, you should now have K+(K*(K+1))/2 features. Standardize all of your features.\n",
    "\n",
    "Step 2: For simplicity, generate a single training and testing set.  Randomly sample 66% of your data and call this the training set, and set aside the remaining 34% as your test set."
   ]
  },
  {
   "cell_type": "code",
   "execution_count": 33,
   "metadata": {},
   "outputs": [
    {
     "name": "stdout",
     "output_type": "stream",
     "text": [
      "Step 1:\n",
      "K = 13\n",
      "New number of features = 104\n",
      "\n",
      "Step 2:\n",
      "Training and testing data sets created:\n",
      "(333, 104) (333,)\n",
      "(173, 104) (173,)\n"
     ]
    }
   ],
   "source": [
    "# Your code here\n",
    "from sklearn.preprocessing import PolynomialFeatures\n",
    "from sklearn.model_selection import train_test_split\n",
    "\n",
    "# STEP 1.\n",
    "# Create interaction terms \n",
    "interaction = PolynomialFeatures(degree=2, include_bias=False, interaction_only=True)\n",
    "X_inter = interaction.fit_transform(bdata.data)\n",
    "\n",
    "# Create squared terms\n",
    "X2 = np.square(bdata.data)\n",
    "\n",
    "# Combine all the features \n",
    "X_last = np.column_stack((X_inter, X2))\n",
    "\n",
    "# Standardize all the features\n",
    "X_last = standardize(X_last)\n",
    "\n",
    "# Check the number of features\n",
    "print('Step 1:')\n",
    "print('K = {}'.format(np.shape(bdata.data)[1]))\n",
    "print('New number of features = {}'.format(np.shape(X_last)[1]))\n",
    "\n",
    "# STEP 2.\n",
    "print('\\nStep 2:')\n",
    "Y_last = bdata.target\n",
    "X_last_train,X_last_test,Y_last_train,Y_last_test = train_test_split(X_last, Y_last, test_size = 0.34)\n",
    "\n",
    "print(\"Training and testing data sets created:\")\n",
    "print(X_last_train.shape, Y_last_train.shape)\n",
    "print(X_last_test.shape, Y_last_test.shape)\n"
   ]
  },
  {
   "cell_type": "markdown",
   "metadata": {},
   "source": [
    "### 4.2 Overfitting (sort of)\n",
    "Now, using your version of multivariate regression from 2.3, let's overfit the training data. Using your training set, regress housing price on as many of those K+(K*(K+1))/2 features as you can (Don't forget to add quadratic terms. Form instance, RM^2.).  If you get too greedy, it's possible this will take a long time to compute, so start with 5-10 features, and if you have the time, add more features.\n",
    "\n",
    "Report the RMSE when you apply your model to your training set and to your testing set. How do these numbers compare to each other, and to the RMSE from 3.2 and nearest neighbors?"
   ]
  },
  {
   "cell_type": "code",
   "execution_count": 34,
   "metadata": {},
   "outputs": [
    {
     "name": "stdout",
     "output_type": "stream",
     "text": [
      "Intercept is 21.93466340326126 and slope is [-72.86051354  -1.60926811  -4.89403076   1.52617071  69.18568636\n",
      "   2.0096356    1.9111546    2.06456408] in 709122 iterations\n",
      "Time taken: 101.15 seconds\n",
      "RMSE for training data is 6.916015939740874\n",
      "RMSE for test data is 8.49250884429491\n"
     ]
    }
   ],
   "source": [
    "## Your code here\n",
    "from math import sqrt\n",
    "\n",
    "# Train the multivariate regression model\n",
    "X_overfit_train = np.column_stack((X_last_train[:, 0:3], X_last_train[:, 13:15], X_last_train[:, 91:94]))\n",
    "#X_overfit_train = X_last_train[:, 0:6]\n",
    "intercept, slope, iters, cost_list, total_time = multivariate_ols(X_overfit_train, Y_last_train.ravel(), 0.1, 10000000)\n",
    "print('Intercept is {} and slope is {} in {} iterations'.format(intercept, slope, iters))\n",
    "print(\"Time taken: {:.2f} seconds\".format(total_time))\n",
    "\n",
    "# Compute RMSE for training data\n",
    "predicted_train = intercept + np.dot(X_overfit_train, slope)\n",
    "predicted_train = predicted_train.reshape((len(Y_last_train), 1))\n",
    "rmse1 = sqrt(mean_squared_error(Y_last_train, predicted_train))\n",
    "print('RMSE for training data is {}'.format(rmse1))\n",
    "\n",
    "# Compute RMSE for test data\n",
    "X_overfit_test = np.column_stack((X_last_test[:, 0:3], X_last_test[:, 13:15], X_last_test[:, 91:94]))\n",
    "#X_overfit_test = X_last_test[:, 0:6]\n",
    "predicted_test = intercept + np.dot(X_overfit_test, slope)\n",
    "predicted_test = predicted_test.reshape((len(Y_last_test), 1))\n",
    "rmse2 = sqrt(mean_squared_error(Y_last_test, predicted_test))\n",
    "print('RMSE for test data is {}'.format(rmse2))\n"
   ]
  },
  {
   "cell_type": "markdown",
   "metadata": {},
   "source": [
    "*Discuss your results here*\n",
    "\n",
    "<font color='blue'>*In this part, while training the multivariate OLS model, I have used R = 0.1. There are 8 features including 3 original features, 2 interaction features, and 3 squared terms. As reported above, the RMSE for training data is 6.9160159 and RMSE for test data is 8.4925088. As expected, the RMSE for test data is higher than the RMSE for training data because the coefficients of the fitted regression curve are calculated in order to fit well the training data. Compared to the test RMSE from part 3.2 (which was 5.767975) and the test RMSE of the nearest neighbors (which was 7.38), we see that the test RMSE of this part is much higher than the others. This is the effect of overfitting. When we add more features, although the model may fit the training set well and produce lower training RMSE values, it will fail to generalize to new examples and produce higher test RMSE values.*\n",
    "</font> "
   ]
  },
  {
   "cell_type": "markdown",
   "metadata": {},
   "source": [
    "### 4.3 Ridge regularization\n",
    "Incorporate L2 (Ridge) regularization into your multivariate_ols regression. Write a new version of your gradient descent algorithm that includes a regularization term \"lambda\" to penalize excessive complexity. \n",
    "\n",
    "Use your regularized regression to re-fit the model from 4.2 above on your training data. Try this for several different values of lambda, and report your RMSE for each lambda separately for your training and testing data. How do these numbers compare to each other, to the RMSE from 4.2,  to the RMSE from 2.3, and to the RMSE from nearest neighbors?\n",
    "\n",
    "Go brag to your friends about how you just implemented ridge-regularized multivariate regression using gradient descent optimization, from scratch. If you still have friends."
   ]
  },
  {
   "cell_type": "code",
   "execution_count": 35,
   "metadata": {},
   "outputs": [
    {
     "name": "stdout",
     "output_type": "stream",
     "text": [
      "Intercept is 21.933989246777802 and slope is [-69.65624107  -1.54260472  -4.9000035    1.49890086  65.97114156\n",
      "   2.00966743   1.87200765   2.10735852] in 4422231 iterations\n",
      "Time taken: 91.64 seconds\n",
      "RMSE for training data is 6.9161614434932295\n",
      "RMSE for test data is 8.491216909848454\n",
      "\n",
      "Intercept is 21.930775234316613 and slope is [-54.5950179   -1.22852822  -4.92488901   1.37070799  50.86150306\n",
      "   2.00986219   1.68769452   2.30562163] in 3442532 iterations\n",
      "Time taken: 71.78 seconds\n",
      "RMSE for training data is 6.920494278642693\n",
      "RMSE for test data is 8.48916787705881\n",
      "\n",
      "Intercept is 21.922321191874666 and slope is [-18.28699351  -0.4599595   -4.93533985   1.06143883  14.43479341\n",
      "   2.01096572   1.23856963   2.73871548] in 1066939 iterations\n",
      "Time taken: 21.89 seconds\n",
      "RMSE for training data is 6.955591747836084\n",
      "RMSE for test data is 8.512227126707195\n",
      "\n",
      "Intercept is 21.91131246111904 and slope is [-4.04010181 -0.03573321 -4.41107827  0.93719921  0.12710769  2.01216187\n",
      "  1.01042217  2.42864554] in 131399 iterations\n",
      "Time taken: 2.80 seconds\n",
      "RMSE for training data is 6.979686940564387\n",
      "RMSE for test data is 8.54602368361449\n",
      "\n"
     ]
    }
   ],
   "source": [
    "# Your code here\n",
    "\n",
    "def ridge_multivariate_ols(xvalue_matrix, yvalues, R, llambda, MaxIterations=1000):\n",
    "    # your code here\n",
    " \n",
    "    start_time = time.time()\n",
    "    \n",
    "    # Initialize the parameters\n",
    "    N, m = np.shape(xvalue_matrix)\n",
    "    alpha_old = np.random.rand()\n",
    "    alpha_new = np.random.rand()\n",
    "    beta_old = np.random.rand(m)\n",
    "    beta_new = np.random.rand(m)\n",
    "    \n",
    "    # Tolerance and iteration counter\n",
    "    epsilon = 1e-6\n",
    "    cnt = 0    \n",
    "    \n",
    "    # Run the iterations \n",
    "    while(np.abs(alpha_old-alpha_new) > epsilon or np.max(np.abs(beta_old-beta_new)) > epsilon):\n",
    "        alpha_old = alpha_new\n",
    "        beta_old = beta_new\n",
    "        \n",
    "        # Update rules\n",
    "        vec3 = alpha_old +  np.dot(xvalue_matrix, beta_old) - yvalues\n",
    "        alpha_new = alpha_old - R / N * (vec3.sum())\n",
    "        beta_new = beta_old*(1 - R * llambda / N) - R / N * np.dot(xvalue_matrix.T, vec3)\n",
    "        \n",
    "        # Terminate if it takes too many iterations \n",
    "        cnt += 1\n",
    "        if cnt > MaxIterations:\n",
    "            print('Iterations exceeded maximum number. Stopping...')\n",
    "            break   \n",
    "                \n",
    "    total_time = time.time() - start_time\n",
    "\n",
    "    return alpha_new, beta_new, cnt, total_time\n",
    "\n",
    "lambda_list = [0.001, 0.01, 0.1, 1]  \n",
    "X_overfit_train2 = np.column_stack((X_last_train[:, 0:3], X_last_train[:, 13:15], X_last_train[:, 91:94]))                                                            \n",
    "X_overfit_test2 = np.column_stack((X_last_test[:, 0:3], X_last_test[:, 13:15], X_last_test[:, 91:94]))\n",
    "                                                             \n",
    "for lamb in lambda_list:\n",
    "    # Train the ridge-regularized multivariate regression model\n",
    "    intercept, slope, iters, total_time = ridge_multivariate_ols(X_overfit_train2, Y_last_train.ravel(), 0.01, lamb, 100000000)\n",
    "    print('Intercept is {} and slope is {} in {} iterations'.format(intercept, slope, iters))\n",
    "    print(\"Time taken: {:.2f} seconds\".format(total_time))\n",
    "\n",
    "    # Compute RMSE for training data\n",
    "    predicted_train2 = intercept + np.dot(X_overfit_train2, slope)\n",
    "    predicted_train2 = predicted_train2.reshape((len(Y_last_train), 1))\n",
    "    rmse3 = sqrt(mean_squared_error(Y_last_train, predicted_train2))\n",
    "    print('RMSE for training data is {}'.format(rmse3))\n",
    "\n",
    "    # Compute RMSE for test data\n",
    "    predicted_test2 = intercept + np.dot(X_overfit_test2, slope)\n",
    "    predicted_test2 = predicted_test2.reshape((len(Y_last_test), 1))\n",
    "    rmse4 = sqrt(mean_squared_error(Y_last_test, predicted_test2))\n",
    "    print('RMSE for test data is {}\\n'.format(rmse4))\n"
   ]
  },
  {
   "cell_type": "markdown",
   "metadata": {},
   "source": [
    "*Discuss your results here*\n",
    "\n",
    "<font color='blue'>*In this part, I used ridge regularized multivariate ols by gradient descent to re-fit the model with 8 features including 3 original features, 2 interaction features, and 3 squared terms as in the previous part. Four different values of lambda are experimented: 0.001, 0.01, 0.1, 1. The RMSE values are reported above for each lambda separately for the training and testing data. As expected, the RMSE values for training data are always smaller than the RMSE values for test data.*\n",
    "    \n",
    "*Note that in order to check the estimated values of the regression coefficients above, I have also performed the ridge regularized regression for all the lambda values by using Ridge() from sklearn.linear_model in the next cell below.*\n",
    "<br/><br/> \n",
    "*As can be seen, the RMSE values for both training and test data increase as the value of the regularization term (lambda) increases. For lambda = 0.001, the training and test RMSE values are 6.91616 and 8.49121, respectively. However, for lambda = 1, the training and test RMSE values are 6.97968 and 8.54602, respectively.*    \n",
    "\n",
    "*Comparison of test RMSE values: Compared to the test RMSE from part 3.2 (which was 5.767975) and the test RMSE of the nearest neighbors (which was 7.38), we see that the test RMSE values for all lambda values are much higher than the other methods. When we compare with the test RMSE from the overfitted model in part 4.2 (which was 8.492508), we see that for lambda values 0.001 and 0.01, the test RMSE values are lower in this part. This is due to the fact that we decrease the effect of overfitting the training data as we increase the lambda value. Hence, we decrease overfitting but increase the generalization of the model for new instances.* \n",
    "<br/><br/> \n",
    "*Comparison of training RMSE values: In terms of training RMSE values, as the lambda value increases, we observe that ridge regularization produces higher RMSE values for training data than the overfitted model in part 4.2 (where the training RMSE was 6.9160159). This can be explained by the fact that we perform less overfitting for the training data as we increase the regularization penalty term lambda.*\n",
    "<br/><br/> \n",
    "*All of these observations can be explained more clearly as follows: When we use no penalty as we did in part 4.2, we saw that as the number of features increases, we are more likely to overfit in which case the training RMSE would be going down but the test RMSE would start going up. However, in this part, we put a penalty term so that the RMSE for test data might be smaller for certain lambda values. Note that in the cases where the penalty coefficient is (inappropriately) larger, both test and training RMSE values turn out to be higher than the other methods.*\n",
    "</font> "
   ]
  },
  {
   "cell_type": "markdown",
   "metadata": {},
   "source": [
    "### *Test ridge regularized multivariate ols by Ridge()*"
   ]
  },
  {
   "cell_type": "code",
   "execution_count": 44,
   "metadata": {},
   "outputs": [
    {
     "name": "stdout",
     "output_type": "stream",
     "text": [
      "Intercept is 21.934207852659046 and Slopes are [-70.71176926  -1.56450798  -4.89779076   1.50788276  67.03004339\n",
      "   2.00966047   1.88487943   2.09303953] \n",
      "RMSE for training data is 6.916083419982674\n",
      "RMSE for test data is 8.49161574504831\n",
      "\n",
      "Intercept is 21.930945202836547 and Slopes are [-55.41568034  -1.24555779  -4.92316863   1.37769133  51.68478848\n",
      "   2.00985678   1.6977022    2.29448877] \n",
      "RMSE for training data is 6.9201032944175225\n",
      "RMSE for test data is 8.489120474935842\n",
      "\n",
      "Intercept is 21.922373907984994 and Slopes are [-18.54145386  -0.46523981  -4.93480642   1.06360413  14.69006705\n",
      "   2.01096404   1.24167268   2.73526355] \n",
      "RMSE for training data is 6.955225434383464\n",
      "RMSE for test data is 8.511945581754414\n",
      "\n",
      "Intercept is 21.91131915267589 and Slopes are [-4.07231316 -0.03640163 -4.41101075  0.93747331  0.15942199  2.01216166\n",
      "  1.01081498  2.42820858] \n",
      "RMSE for training data is 6.9796285653855135\n",
      "RMSE for test data is 8.54597454253348\n",
      "\n"
     ]
    }
   ],
   "source": [
    "from sklearn.linear_model import Ridge\n",
    "\n",
    "lambda_list = [0.001, 0.01, 0.1, 1]\n",
    "for lamb in lambda_list:\n",
    "    reg_ridge = Ridge(lamb).fit(X_overfit_train2, Y_last_train)\n",
    "    print(\"Intercept is {} and Slopes are {} \".format(reg_ridge.intercept_, reg_ridge.coef_))\n",
    "    \n",
    "    # Compute RMSE for training data\n",
    "    predicted_train3 = reg_ridge.intercept_ + np.dot(X_overfit_train2, reg_ridge.coef_)\n",
    "    predicted_train3 = predicted_train3.reshape((len(Y_last_train), 1))\n",
    "    rmse5 = sqrt(mean_squared_error(Y_last_train, predicted_train3))\n",
    "    print('RMSE for training data is {}'.format(rmse5))\n",
    "\n",
    "    # Compute RMSE for test data\n",
    "    predicted_test3 = reg_ridge.intercept_ + np.dot(X_overfit_test2, reg_ridge.coef_)\n",
    "    predicted_test3 = predicted_test3.reshape((len(Y_last_test), 1))\n",
    "    rmse6 = sqrt(mean_squared_error(Y_last_test, predicted_test3))\n",
    "    print('RMSE for test data is {}\\n'.format(rmse6))\n"
   ]
  },
  {
   "cell_type": "markdown",
   "metadata": {},
   "source": [
    "### Extra Credit 2: Cross-validate lambda\n",
    "\n",
    "Use k-fold cross-validation to select the optimal value of lambda. Report the average RMSE across all training sets, and the average RMSE across all testing sets. How do these numbers compare to each other, to the RMSE from your previous efforts?  Finally, create a scatter plot that shows RMSE as a function of lambda."
   ]
  },
  {
   "cell_type": "code",
   "execution_count": 36,
   "metadata": {},
   "outputs": [
    {
     "name": "stdout",
     "output_type": "stream",
     "text": [
      "0\n",
      "1\n",
      "2\n",
      "3\n",
      "[2.35111002 2.36253004 2.44251872 2.68209615]\n",
      "[6.92151387 6.46077804 5.76732574 4.52606695]\n"
     ]
    },
    {
     "data": {
      "image/png": "[encoded data removed]",
      "text/plain": [
       "<Figure size 576x432 with 1 Axes>"
      ]
     },
     "metadata": {
      "needs_background": "light"
     },
     "output_type": "display_data"
    },
    {
     "data": {
      "image/png": "[encoded data removed]",
      "text/plain": [
       "<Figure size 576x432 with 1 Axes>"
      ]
     },
     "metadata": {
      "needs_background": "light"
     },
     "output_type": "display_data"
    }
   ],
   "source": [
    "# Your code here\n",
    "\n",
    "lambda_list = [0.001, 0.01, 0.1, 1]  \n",
    "average_rmse_train = np.zeros(len(lambda_list))\n",
    "average_rmse_test = np.zeros(len(lambda_list))\n",
    "X_ridgecv = np.column_stack((X_last[:, 0:3], X_last[:, 13:15], X_last[:, 91:94]))    \n",
    "\n",
    "j = 0\n",
    "for lamb in lambda_list:    \n",
    "    # Perform 10-fold CV\n",
    "    print(j)\n",
    "    kf3 = KFold(n_splits=10)\n",
    "    rmse_values_train = np.zeros(10)\n",
    "    rmse_values_test = np.zeros(10)\n",
    "    i = 0\n",
    "    for train_idx, test_idx in kf3.split(X_ridgecv):\n",
    "        train_x = X_last[train_idx]\n",
    "        train_y = Y_last[train_idx]\n",
    "        test_x = X_last[test_idx]\n",
    "        test_y = Y_last[test_idx]\n",
    "    \n",
    "        # Fit the multivariate regression\n",
    "        intercept, slope, iters, total_time = ridge_multivariate_ols(train_x, train_y.ravel(), 0.01, lamb, 100000000)\n",
    "    \n",
    "        # Compute RMSE for training data \n",
    "        pred_train = intercept + np.dot(train_x, slope)\n",
    "        pred_train = pred_train.reshape((len(train_y), 1))\n",
    "        rmse_values_train[i] = sqrt(mean_squared_error(train_y, pred_train))       \n",
    "\n",
    "        # Compute RMSE for test data \n",
    "        pred_test = intercept + np.dot(test_x, slope)\n",
    "        pred_test = pred_test.reshape((len(test_y), 1))\n",
    "        rmse_values_test[i] = sqrt(mean_squared_error(test_y, pred_test))\n",
    "        i += 1 \n",
    "\n",
    "    # Compute average cross-validated rmse values for training and test data \n",
    "    average_rmse_train[j] = np.mean(rmse_values_train)\n",
    "    average_rmse_test[j] = np.mean(rmse_values_test)\n",
    "    j += 1\n",
    "       \n",
    "print(average_rmse_train)\n",
    "print(average_rmse_test)\n",
    "\n",
    "plt.figure(figsize=(8,6))\n",
    "ax = plt.subplot(111)\n",
    "plt.scatter(lambda_list, average_rmse_train, s =50, c='green', marker = 'o')\n",
    "plt.xlabel(\"Lambda\")\n",
    "plt.ylabel(\"Average RMSE\")\n",
    "plt.title(\"Scatterplot: RMSE for Training Data vs Lambda\")\n",
    "plt.show()\n",
    "\n",
    "plt.figure(figsize=(8,6))\n",
    "ax = plt.subplot(111)\n",
    "plt.scatter(lambda_list, average_rmse_test, s =50, c='green', marker = 'o')\n",
    "plt.xlabel(\"Lambda\")\n",
    "plt.ylabel(\"Average RMSE\")\n",
    "plt.title(\"Scatterplot: RMSE for Test Data vs Lambda\")\n",
    "plt.show()"
   ]
  },
  {
   "cell_type": "markdown",
   "metadata": {},
   "source": [
    "*Discuss your results here*\n",
    "\n",
    "<font color='blue'>*In this part, we perform 10-fold cross-validation to select the optimal value of lambda for ridge regularized multivariate ols using gradient descent. The model includes 8 features with 3 original features, 2 interaction features, and 3 squared terms as in the previous two parts. Four different values of lambda are experimented: 0.001, 0.01, 0.1, 1.* \n",
    "    \n",
    "*As reported above, the average RMSE across all training and test sets for each lambda value are as follows:* \n",
    "- *lambda = 0.001 --> traning RMSE = 2.35111002, test RMSE = 6.92151387*\n",
    "- *lambda = 0.01  --> traning RMSE = 2.36253004, test RMSE = 6.46077804*\n",
    "- *lambda = 0.1   --> traning RMSE = 2.44251872, test RMSE = 5.76732574*\n",
    "- *lambda = 1     --> traning RMSE = 2.68209615, test RMSE = 4.52606695*\n",
    "\n",
    "*As can be also seen from the scatter plots showing the training and test RMSE values as functions of lambda, as the lambda value increases, the training RMSE increases while the test RMSE decreases. As explained in the previous part, this is due to the fact that we perform less overfitting for the training data as we increase the regularization penalty term lambda. Hence, we decrease overfitting (and so increase the training RMSE), but at the same time we increase the generalization of the model for new instances (and so decrease the test RMSE).*\n",
    "\n",
    "*Comparison of training and test RMSE values with previous parts:*\n",
    "- *Compared to the test RMSE from the overfitted model in part 4.2 (which was 8.492508) and the test RMSE of the nearest neighbors (which was 7.38), we see that the average test RMSE values for all lambda values are much lower in this part. Compared to the test RMSE from part 3.2 (which was 5.767975), we see that the test RMSE values for lambda = 0.1 and lambda =1 are lower in this part.*\n",
    "- *Lastly, compared to the test RMSE values from part 4.3, we see that the average cross-validated test RMSE values for all lambda values are much lower in this part. This is because part 4.3 uses 66% of the dataset to train the model, but here we use 90% of the dataset to train the model. As a result, we also observe that the average RMSE values for training data are much smaller than the previous parts.*\n",
    "</font> "
   ]
  },
  {
   "cell_type": "markdown",
   "metadata": {},
   "source": [
    "###  Extra Credit 3: AdaGrad\n",
    "\n",
    "AdaGrad is a method to implement gradient descent with different learning rates for each feature. Adaptive algorithms like this one are being extensively used especially in neural network training. Implement AdaGrad on 2.3 but now use CRIM, RM and DIS as independent variables. Standardize these variables before inputting them to the gradient descent algorithm. Tune the algorithm until you estimate the regression coefficients within a tolerance of 1e-1. Use mini-batch gradient descent in this implementation. In summary for each parameter (in our case one intercept and three slopes) the update step of the gradient (in this example $\\beta_j$) at iteration $k$ of the GD algorithm becomes:\n",
    "\n",
    "$$\\beta_j=\\beta_j -\\frac{R}{\\sqrt{G^{(k)}_j}}\\frac{\\partial J(\\alpha,\\beta_1,\\ldots)}{\\partial \\beta_j}$$ where\n",
    "$G^{(k)}_j=\\sum_{i=1}^{k} (\\frac{\\partial J^{(i)}(\\alpha,\\beta_1,\\ldots)}{\\partial \\beta_j})^2$ and $R$ is your learning rate. The notation $\\frac{\\partial J^{(i)}(\\alpha,\\beta_1,\\ldots)}{\\partial \\beta_j}$ corresponds to the value of the gradient at iteration $(i)$. Essentially we are \"storing\" information about previous iteration gradients. Doing that we effectively decrease the learning rate slower when a feature $x_i$ is sparse (i.e. has many zero values which would lead to zero gradients). Although this method is not necessary for our regression problem, it is good to be familiar with these methods as they are widely used in neural network training.  "
   ]
  },
  {
   "cell_type": "code",
   "execution_count": 37,
   "metadata": {},
   "outputs": [
    {
     "name": "stdout",
     "output_type": "stream",
     "text": [
      "R = 0.1 and Batch Size = 16:\n",
      "Intercept is 22.532812031926294 and slopes are [ 5.85583366 -2.18299623  0.2656415 ] in 95862 iterations\n",
      "Time taken: 80.90 seconds\n"
     ]
    }
   ],
   "source": [
    "# Your code here\n",
    "\n",
    "from sklearn.utils import shuffle\n",
    "from math import sqrt\n",
    "\n",
    "def adagrad(xvalue_matrix, yvalues, R=0.1, MaxIterations=1000, BatchSize = 8):  \n",
    "    start_time = time.time()\n",
    "\n",
    "    # Initialize the parameters\n",
    "    N, m = np.shape(xvalue_matrix)\n",
    "    alpha_old = np.random.rand()\n",
    "    beta1_old = np.random.rand()\n",
    "    beta2_old = np.random.rand()\n",
    "    beta3_old = np.random.rand()\n",
    "    alpha_new = np.random.rand()\n",
    "    beta1_new = np.random.rand()\n",
    "    beta2_new = np.random.rand()\n",
    "    beta3_new = np.random.rand()\n",
    "\n",
    "    # Keep track of the objective function \n",
    "    cost_old = np.inf\n",
    "    cost_new = np.linalg.norm(yvalues)\n",
    "    \n",
    "    # Tolerance and iteration counter\n",
    "    epsilon = 1e-6  # Tune the algorithm until you estimate the regression coefficients within a tolerance of 1e-1\n",
    "    cnt = 0    \n",
    "    total_grads_alpha = 0\n",
    "    total_grads_beta1 = 0\n",
    "    total_grads_beta2 = 0\n",
    "    total_grads_beta3 = 0\n",
    "    \n",
    "    # Run the iterations \n",
    "    for i in range(MaxIterations):\n",
    "      \n",
    "        # Shuffle data\n",
    "        Xb, yb = shuffle(xvalue_matrix, yvalues)\n",
    "        \n",
    "        # For each of the floor(n/K) batches do gradient steps\n",
    "        for offset in range(0, N, BatchSize):\n",
    "            cost_old = cost_new\n",
    "            alpha_old = alpha_new\n",
    "            beta1_old = beta1_new\n",
    "            beta2_old = beta2_new\n",
    "            beta3_old = beta3_new\n",
    "            beta_old = np.array([beta1_old, beta2_old, beta3_old])\n",
    "            end = offset + BatchSize\n",
    "            batchx, batchy = Xb[offset:end], yb[offset:end]  \n",
    "            \n",
    "            # Update rules            \n",
    "            vec_ada = alpha_old + np.dot(batchx, beta_old) - batchy\n",
    "            grad_alpha = (vec_ada.sum())/N\n",
    "            grad_beta = np.dot(batchx.T, vec_ada)/N\n",
    "            total_grads_alpha += (grad_alpha)**2\n",
    "            total_grads_beta1 += (grad_beta[0])**2 \n",
    "            total_grads_beta2 += (grad_beta[1])**2 \n",
    "            total_grads_beta3 += (grad_beta[2])**2     \n",
    "\n",
    "            alpha_new = alpha_old - (R * grad_alpha / sqrt(total_grads_alpha))\n",
    "            beta1_new = beta1_old - (R * grad_beta[0] / sqrt(total_grads_beta1)) \n",
    "            beta2_new = beta2_old - (R * grad_beta[1] / sqrt(total_grads_beta2))\n",
    "            beta3_new = beta3_old - (R * grad_beta[2] / sqrt(total_grads_beta3))\n",
    "            beta_new = np.array([beta1_new, beta2_new, beta3_new])\n",
    "            \n",
    "            # Update cost\n",
    "            cost_new = 1.0 / (2*N) * np.linalg.norm(batchy - alpha_new - np.dot(batchx, beta_new))**2\n",
    "            \n",
    "        # Stop if the parameters converge or if the number of iterations exceeds the limit \n",
    "        cnt += 1\n",
    "        if(((np.abs(alpha_old-alpha_new) <= epsilon) and (np.max(np.abs(beta_old-beta_new)) <= epsilon)) or (cnt > MaxIterations)):\n",
    "            break\n",
    "        \n",
    "    total_time = time.time() - start_time\n",
    "        \n",
    "    return alpha_new, beta_new, cnt, total_time\n",
    "\n",
    "X_CRIM_std = standardize(np.array(boston['CRIM']).reshape(-1,1)) \n",
    "X_DIS_std = standardize(np.array(boston['DIS']).reshape(-1,1)) \n",
    "X_RM_std = standardize(X_RM)\n",
    "XX_ada = np.column_stack((X_RM_std, X_CRIM_std, X_DIS_std))\n",
    "\n",
    "intercept, slopes, iters, total_time = adagrad(XX_ada, Y.ravel(), 0.1, 1000000, 16)\n",
    "print('R = 0.1 and Batch Size = 16:')\n",
    "print('Intercept is {} and slopes are {} in {} iterations'.format(intercept, slopes, iters))\n",
    "print('Time taken: {:.2f} seconds'.format(total_time))\n"
   ]
  },
  {
   "cell_type": "markdown",
   "metadata": {},
   "source": [
    "### *Test AdaGrad by LinearRegression()*"
   ]
  },
  {
   "cell_type": "code",
   "execution_count": 38,
   "metadata": {},
   "outputs": [
    {
     "name": "stdout",
     "output_type": "stream",
     "text": [
      "Intercept is [22.53280632] and Slopes are [[ 5.85583485 -2.18302225  0.26563192]] \n"
     ]
    }
   ],
   "source": [
    "reg_ada = LinearRegression().fit(XX_ada, Y)\n",
    "print(\"Intercept is {} and Slopes are {} \".format(reg_ada.intercept_, reg_ada.coef_))"
   ]
  },
  {
   "cell_type": "markdown",
   "metadata": {},
   "source": [
    "*Discuss your results here*\n",
    "\n",
    "<font color='blue'>*In this part, we implement adaptive gradient descent with different learning rates for each feature. In order to check the estimated values of the regression coefficients, I performed the same regression by using LinearRegression() from sklearn.linear_model. As reported above, they both produce almost the same values for batch size 16 and R = 0.1.* \n",
    "    \n",
    "*In addition, compared to the mini-batch GD implementation in part 2.5, for the same values of batch size and R, the algorithm in part 2.5 converged in 167.86 seconds (for the model with two independent variables) while the adaptive algorithm in this part converged in 80.90 seconds (for the model with three independent variables). This shows that the adaptive approach increased the computational efficiency and convergence speed of the mini-batch GD algorithm.*\n",
    "</font> "
   ]
  }
 ],
 "metadata": {
  "anaconda-cloud": {},
  "kernelspec": {
   "display_name": "Python 3",
   "language": "python",
   "name": "python3"
  },
  "language_info": {
   "codemirror_mode": {
    "name": "ipython",
    "version": 3
   },
   "file_extension": ".py",
   "mimetype": "text/x-python",
   "name": "python",
   "nbconvert_exporter": "python",
   "pygments_lexer": "ipython3",
   "version": "3.7.4"
  }
 },
 "nbformat": 4,
 "nbformat_minor": 1
}
